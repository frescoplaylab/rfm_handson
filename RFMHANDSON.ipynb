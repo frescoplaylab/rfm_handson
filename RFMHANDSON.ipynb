{
 "cells": [
  {
   "cell_type": "markdown",
   "metadata": {},
   "source": [
    "**Load the required Packages**\n"
   ]
  },
  {
   "cell_type": "code",
   "execution_count": 1,
   "metadata": {},
   "outputs": [],
   "source": [
    "import pandas as pd\n",
    "import datetime as dt\n",
    "import numpy as np\n",
    "import os"
   ]
  },
  {
   "cell_type": "markdown",
   "metadata": {},
   "source": [
    "**Fill in the command for reading the CSV dataset \"HandsOnRFM.csv\" using pandas**"
   ]
  },
  {
   "cell_type": "code",
   "execution_count": 2,
   "metadata": {},
   "outputs": [],
   "source": [
    "df =\n",
    "\n",
    "\n",
    "\n",
    "\n",
    "\n",
    "\n",
    "\n"
   ]
  },
  {
   "cell_type": "markdown",
   "metadata": {},
   "source": [
    "**Following cell helps in doing the Data PreProcessing. Run the Cell to get it done for your Dataset**"
   ]
  },
  {
   "cell_type": "code",
   "execution_count": 3,
   "metadata": {
    "scrolled": false
   },
   "outputs": [],
   "source": [
    "#find the coutry in which each of the customer has made purchase\n",
    "customer_country=df[['Country','CustomerID']].drop_duplicates()\n",
    "customer_country\n",
    "#remove null values\n",
    "df = df[pd.notnull(df['CustomerID'])]\n",
    "#removes negative values\n",
    "df.Quantity.min()\n",
    "df = df[(df['Quantity']>0)]\n",
    "df.Quantity.min()\n",
    "#computes totalprice for monetary calculation\n",
    "df['TotalPrice'] = df['Quantity'] * df['UnitPrice']\n",
    "NOW = dt.datetime(2011,12,10)\n",
    "#changing date format\n",
    "df['InvoiceDate'] = pd.to_datetime(df['InvoiceDate'])\n",
    "\n"
   ]
  },
  {
   "cell_type": "markdown",
   "metadata": {},
   "source": [
    "**Following Cell commands helps in calculation of Recency, Frequency and Monetary Value.**\n",
    "**Calculation of Recency, Frequency, Monetary Value is done by the following procedure**\n",
    "- Recency value found by by subtracting that customer's maximum Invoice Date from NOW\n",
    "- Frequency value found by counting the Invoice Number of that customer.\n",
    "- Monetary value found by adding up all the totalprice of purchases of that Customer.\n",
    "\n",
    "**Run the cell to see the output**\n"
   ]
  },
  {
   "cell_type": "code",
   "execution_count": 24,
   "metadata": {},
   "outputs": [],
   "source": [
    "#calculate the recency, frequency and monetary_value\n",
    "\n",
    "rfmTable=df.groupby('CustomerID').agg({'InvoiceDate': lambda x: (NOW - x.max()).days, 'InvoiceNo': lambda x: len(x), 'TotalPrice': lambda x: x.sum()})\n",
    "\n",
    "##Renaming columns\n",
    "\n",
    "rfmTable.rename(columns={'InvoiceDate': 'recency', \n",
    "                         'InvoiceNo': 'frequency', \n",
    "                         'TotalPrice': 'monetary_value'}, inplace=True)\n",
    "rfmTable\n",
    "\n",
    "\n",
    "\n"
   ]
  },
  {
   "cell_type": "markdown",
   "metadata": {},
   "source": [
    "**Following cell helps in casting the values to integer. Run the cell to see the output**"
   ]
  },
  {
   "cell_type": "code",
   "execution_count": 17,
   "metadata": {},
   "outputs": [],
   "source": [
    "\n",
    "rfmTable['recency'] = rfmTable['recency'].astype(int)\n",
    "quantiles = rfmTable.quantile(q=[0.25,0.5,0.75])\n",
    "quantiles = quantiles.to_dict()\n",
    "segmented_rfm = rfmTable\n",
    "\n"
   ]
  },
  {
   "cell_type": "markdown",
   "metadata": {},
   "source": [
    "**Below cell contains the function to calculates the R score. Run the cell to define the function such that it can be applied on the dataset.**"
   ]
  },
  {
   "cell_type": "code",
   "execution_count": 11,
   "metadata": {},
   "outputs": [],
   "source": [
    "def RScore(x,p,d):\n",
    "    if x <= d[p][0.25]:\n",
    "        return 1\n",
    "    elif x <= d[p][0.50]:\n",
    "        return 2\n",
    "    elif x <= d[p][0.75]: \n",
    "        return 3\n",
    "    else:\n",
    "        return 4"
   ]
  },
  {
   "cell_type": "markdown",
   "metadata": {},
   "source": [
    "**Write a function FMScore which calculates the Frequency and Monetary ranking**\n",
    "- Remember that difference between Rscore and FMScore is that in the former the lower quartile will be assigned 1 rank whereas in the latter greatest quartile will be assigned 1 rank."
   ]
  },
  {
   "cell_type": "code",
   "execution_count": 19,
   "metadata": {},
   "outputs": [],
   "source": [
    "#FMScore calculation\n",
    "\n",
    "def FMScore(x,p,d):   \n",
    "\n",
    "    \n",
    "    \n",
    "    \n",
    "    \n",
    "    \n",
    "    \n",
    "    \n",
    "    "
   ]
  },
  {
   "cell_type": "markdown",
   "metadata": {},
   "source": [
    "- **Following cell contains the command to apply the functions R score and FMScore on the dataset.**\n",
    "- **Run the cell to calculate R Score F Score and M Score for your Dataset**"
   ]
  },
  {
   "cell_type": "code",
   "execution_count": 25,
   "metadata": {},
   "outputs": [],
   "source": [
    "#R score calculation\n",
    "\n",
    "segmented_rfm['r_quartile'] = segmented_rfm['recency'].apply(RScore, args=('recency',quantiles,))\n",
    "# F Score calculation\n",
    "segmented_rfm['f_quartile'] = segmented_rfm['frequency'].apply(FMScore, args=('frequency',quantiles,))\n",
    "#M score calculation\n",
    "segmented_rfm['m_quartile'] = segmented_rfm['monetary_value'].apply(FMScore, args=('monetary_value',quantiles,))\n",
    "\n",
    "\n",
    "R= np.asarray(segmented_rfm[['r_quartile']])\n",
    "R_mean=np.mean(R);\n",
    "F= np.asarray(segmented_rfm[['f_quartile']])\n",
    "F_mean=np.mean(F);\n",
    "M= np.asarray(segmented_rfm[['m_quartile']])\n",
    "M_mean=np.mean(M);\n",
    "final=R_mean+F_mean+M_mean\n",
    "with open('output1.txt', 'w') as file:\n",
    "    file.write(str(final))"
   ]
  }
 ],
 "metadata": {
  "kernelspec": {
   "display_name": "Python 3",
   "language": "python",
   "name": "python3"
  },
  "language_info": {
   "codemirror_mode": {
    "name": "ipython",
    "version": 3
   },
   "file_extension": ".py",
   "mimetype": "text/x-python",
   "name": "python",
   "nbconvert_exporter": "python",
   "pygments_lexer": "ipython3",
   "version": "3.6.4"
  }
 },
 "nbformat": 4,
 "nbformat_minor": 2
}
