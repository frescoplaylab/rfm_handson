{
 "cells": [
  {
   "cell_type": "markdown",
   "metadata": {},
   "source": [
    "**Load the required Packages**\n"
   ]
  },
  {
   "cell_type": "code",
   "execution_count": 6,
   "metadata": {},
   "outputs": [],
   "source": [
    "import pandas as pd\n",
    "import datetime as dt\n",
    "import numpy as np\n",
    "import os"
   ]
  },
  {
   "cell_type": "markdown",
   "metadata": {},
   "source": [
    "**Load the CSV dataset**"
   ]
  },
  {
   "cell_type": "code",
   "execution_count": 7,
   "metadata": {},
   "outputs": [],
   "source": [
    "df = \n",
    "\n",
    "\n",
    "\n",
    "\n",
    "\n",
    "\n",
    "\n"
   ]
  },
  {
   "cell_type": "markdown",
   "metadata": {},
   "source": [
    "**Run the cell to do Data PreProcessing**"
   ]
  },
  {
   "cell_type": "code",
   "execution_count": 8,
   "metadata": {
    "scrolled": false
   },
   "outputs": [],
   "source": [
    "#find the coutry in which each of the customer has made purchase\n",
    "customer_country=df[['Country','CustomerID']].drop_duplicates()\n",
    "customer_country\n",
    "#remove null values\n",
    "df = df[pd.notnull(df['CustomerID'])]\n",
    "#removes negative values\n",
    "df.Quantity.min()\n",
    "df = df[(df['Quantity']>0)]\n",
    "df.Quantity.min()\n",
    "#computes totalprice for monetary calculation\n",
    "df['TotalPrice'] = df['Quantity'] * df['UnitPrice']\n",
    "NOW = dt.datetime(2011,12,10)\n",
    "#changing date format\n",
    "df['InvoiceDate'] = pd.to_datetime(df['InvoiceDate'])\n",
    "\n"
   ]
  },
  {
   "cell_type": "markdown",
   "metadata": {},
   "source": [
    "**Calculation of Recency, Frequency, Monetary Value**\n",
    "- Group your customer by Id\n",
    "- Find the Recency value by subtracting that customer's maximum Invoice Date from NOW\n",
    "- Find the Frequency by counting the Invoice Number of that customer.\n",
    "- Find the Monetary value by adding up all the totalprice of purchases of that Customer.\n",
    "\n",
    "\n",
    "Assign the result to **rfmTable**\n",
    "\n",
    "**Expected output:**\n",
    "\n",
    "\n",
    "| CustomerID |recency|frequency |monetary_value|\n",
    "| ------ | ------ | ------ |------ |\n",
    "| 12431 | 696 | 3 |105.60 |\n",
    "| 12583 | 696 | 20 |855.86 |\n",
    "\n",
    "\n",
    "(Hint: refer your course content)"
   ]
  },
  {
   "cell_type": "code",
   "execution_count": 13,
   "metadata": {},
   "outputs": [],
   "source": [
    "#calculate the recency, frequency and monetary_value\n",
    "\n",
    "rfmTable=\n",
    "\n",
    "\n",
    "\n",
    "\n",
    "\n",
    "\n"
   ]
  },
  {
   "cell_type": "markdown",
   "metadata": {},
   "source": [
    "**Run the cell to cast your recency into integer value**"
   ]
  },
  {
   "cell_type": "code",
   "execution_count": 10,
   "metadata": {},
   "outputs": [],
   "source": [
    "\n",
    "rfmTable['recency'] = rfmTable['recency'].astype(int)\n",
    "quantiles = rfmTable.quantile(q=[0.25,0.5,0.75])\n",
    "quantiles = quantiles.to_dict()\n",
    "segmented_rfm = rfmTable\n"
   ]
  },
  {
   "cell_type": "markdown",
   "metadata": {},
   "source": [
    "**Run the cell which contains function to calculates the R score**"
   ]
  },
  {
   "cell_type": "code",
   "execution_count": 11,
   "metadata": {},
   "outputs": [],
   "source": [
    "def RScore(x,p,d):\n",
    "    if x <= d[p][0.25]:\n",
    "        return 1\n",
    "    elif x <= d[p][0.50]:\n",
    "        return 2\n",
    "    elif x <= d[p][0.75]: \n",
    "        return 3\n",
    "    else:\n",
    "        return 4"
   ]
  },
  {
   "cell_type": "markdown",
   "metadata": {},
   "source": [
    "**Write a function FMScore which calculates the Frequency and Monetary ranking**\n",
    "- Remember that difference between Rscore and FMScore is in the former the lowest will be assigned 1 whereas in the latter greatest will be assigned 1 rank"
   ]
  },
  {
   "cell_type": "code",
   "execution_count": null,
   "metadata": {},
   "outputs": [],
   "source": [
    "#FMScore calculation\n",
    "def FMScore(x,p,d):\n",
    "    \n",
    "    \n",
    "    \n",
    "    \n",
    "    \n",
    "    \n",
    "    \n",
    "    \n",
    "    \n",
    "    \n",
    "    "
   ]
  },
  {
   "cell_type": "markdown",
   "metadata": {},
   "source": [
    "**Run the Cell to call the functions R score and FMScore**"
   ]
  },
  {
   "cell_type": "code",
   "execution_count": 38,
   "metadata": {},
   "outputs": [],
   "source": [
    "#R score calculation\n",
    "\n",
    "segmented_rfm['r_quartile'] = segmented_rfm['recency'].apply(RScore, args=('recency',quantiles,))\n",
    "# F Score calculation\n",
    "segmented_rfm['f_quartile'] = segmented_rfm['frequency'].apply(FMScore, args=('frequency',quantiles,))\n",
    "#M score calculation\n",
    "segmented_rfm['m_quartile'] = segmented_rfm['monetary_value'].apply(FMScore, args=('monetary_value',quantiles,))\n",
    "\n"
   ]
  },
  {
   "cell_type": "code",
   "execution_count": null,
   "metadata": {},
   "outputs": [],
   "source": [
    "R= np.asarray(segmented_rfm[['r_quartile']])\n",
    "R_mean=np.mean(R);\n",
    "F= np.asarray(segmented_rfm[['f_quartile']])\n",
    "F_mean=np.mean(F);\n",
    "M= np.asarray(segmented_rfm[['m_quartile']])\n",
    "M_mean=np.mean(M);\n",
    "final=R_mean+F_mean+M_mean\n",
    "with open('output1.txt', 'w') as file:\n",
    "    file.write(str(final))"
   ]
  }
 ],
 "metadata": {
  "kernelspec": {
   "display_name": "Python 3",
   "language": "python",
   "name": "python3"
  },
  "language_info": {
   "codemirror_mode": {
    "name": "ipython",
    "version": 3
   },
   "file_extension": ".py",
   "mimetype": "text/x-python",
   "name": "python",
   "nbconvert_exporter": "python",
   "pygments_lexer": "ipython3",
   "version": "3.6.4"
  }
 },
 "nbformat": 4,
 "nbformat_minor": 2
}
